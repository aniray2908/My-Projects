{
 "cells": [
  {
   "cell_type": "markdown",
   "id": "184f6ae6",
   "metadata": {},
   "source": [
    "### Classification\n",
    "Predicting a category or class for a given sample within a particular scenario, like first, second\n",
    "\n",
    "### Regression\n",
    "Predicting continuous values like temperatures, salaries\n",
    "\n",
    "### Clustering\n",
    "Identifying patterns in data to make clusters having similarities\n",
    "\n",
    "##### In our case, we have to use classification to predict whether the breast tumor is benign or malignant. \n",
    "##### We are working with Breast Cancer Wisconsin (Original) dataset\n",
    "\n",
    "###### The dataset is multivariate in having both, independent and dependent variables, 699 observations, 10 attributes"
   ]
  },
  {
   "cell_type": "markdown",
   "id": "82942e23",
   "metadata": {},
   "source": [
    "# Importing the libraries"
   ]
  },
  {
   "cell_type": "code",
   "execution_count": 34,
   "id": "ce2e08b8",
   "metadata": {},
   "outputs": [],
   "source": [
    "import pandas as pd"
   ]
  },
  {
   "cell_type": "markdown",
   "id": "178ef497",
   "metadata": {},
   "source": [
    "# Importing the dataset"
   ]
  },
  {
   "cell_type": "code",
   "execution_count": 35,
   "id": "8e69beda",
   "metadata": {},
   "outputs": [],
   "source": [
    "dataset = pd.read_csv(r\"C:\\Users\\Anisha Ray\\Downloads\\Logistic_Regression\\Final Folder\\Dataset\\breast_cancer.csv\")\n",
    "# Set of dependent variables and independent variables are created as x and y\n",
    "X = dataset.drop(['Class'],axis='columns')\n",
    "y = dataset['Class']\n",
    "# Note: you cannot create X and y using dataframe functions if you're gonna operate on them later (Jupyter only)"
   ]
  },
  {
   "cell_type": "code",
   "execution_count": 42,
   "id": "500e54c7",
   "metadata": {},
   "outputs": [
    {
     "data": {
      "text/plain": [
       "Sample code number             0\n",
       "Clump Thickness                0\n",
       "Uniformity of Cell Size        0\n",
       "Uniformity of Cell Shape       0\n",
       "Marginal Adhesion              0\n",
       "Single Epithelial Cell Size    0\n",
       "Bare Nuclei                    0\n",
       "Bland Chromatin                0\n",
       "Normal Nucleoli                0\n",
       "Mitoses                        0\n",
       "dtype: int64"
      ]
     },
     "execution_count": 42,
     "metadata": {},
     "output_type": "execute_result"
    }
   ],
   "source": [
    "X.isna().sum()"
   ]
  },
  {
   "cell_type": "markdown",
   "id": "00c3d1ba",
   "metadata": {},
   "source": [
    "# Splitting the dataset into the training and test datasets"
   ]
  },
  {
   "cell_type": "code",
   "execution_count": 36,
   "id": "7050b9a7",
   "metadata": {},
   "outputs": [],
   "source": [
    "from sklearn.model_selection import train_test_split\n",
    "X_train, X_test, y_train, y_test = train_test_split(X,y,test_size=0.2, random_state=0)"
   ]
  },
  {
   "cell_type": "markdown",
   "id": "97cc4d5f",
   "metadata": {},
   "source": [
    "# Training the Logistic Regression model on the training set"
   ]
  },
  {
   "cell_type": "code",
   "execution_count": 37,
   "id": "aecd0d8c",
   "metadata": {},
   "outputs": [
    {
     "data": {
      "text/plain": [
       "LogisticRegression()"
      ]
     },
     "execution_count": 37,
     "metadata": {},
     "output_type": "execute_result"
    }
   ],
   "source": [
    "from sklearn.linear_model import LogisticRegression\n",
    "classifier = LogisticRegression()\n",
    "classifier.fit(X_train,y_train)"
   ]
  },
  {
   "cell_type": "markdown",
   "id": "c6cb986e",
   "metadata": {},
   "source": [
    "# Predicting the Test Set Results"
   ]
  },
  {
   "cell_type": "code",
   "execution_count": 38,
   "id": "c16d560d",
   "metadata": {},
   "outputs": [],
   "source": [
    "y_pred = classifier.predict(X_test)"
   ]
  },
  {
   "cell_type": "markdown",
   "id": "892f4661",
   "metadata": {},
   "source": [
    "# Making the Confusion Matrix"
   ]
  },
  {
   "cell_type": "code",
   "execution_count": 39,
   "id": "0dfa65a7",
   "metadata": {},
   "outputs": [
    {
     "name": "stdout",
     "output_type": "stream",
     "text": [
      "[[87  0]\n",
      " [50  0]]\n"
     ]
    }
   ],
   "source": [
    "from sklearn.metrics import confusion_matrix\n",
    "cm = confusion_matrix(y_test,y_pred)\n",
    "print(cm)"
   ]
  },
  {
   "cell_type": "code",
   "execution_count": 40,
   "id": "f55b39e6",
   "metadata": {},
   "outputs": [
    {
     "data": {
      "text/plain": [
       "Text(69.0, 0.5, 'Truth')"
      ]
     },
     "execution_count": 40,
     "metadata": {},
     "output_type": "execute_result"
    },
    {
     "data": {
      "image/png": "[encoded data removed]",
      "text/plain": [
       "<Figure size 720x504 with 2 Axes>"
      ]
     },
     "metadata": {
      "needs_background": "light"
     },
     "output_type": "display_data"
    }
   ],
   "source": [
    "%matplotlib inline\n",
    "import matplotlib.pyplot as plt\n",
    "import seaborn as sns\n",
    "plt.figure(figsize=(10,7))\n",
    "sns.heatmap(cm,annot=True)\n",
    "plt.xlabel('Predicted')\n",
    "plt.ylabel('Truth')"
   ]
  },
  {
   "cell_type": "markdown",
   "id": "145c8fb7",
   "metadata": {},
   "source": [
    "# Computing Accuracy with K-fold Cross Validation"
   ]
  },
  {
   "cell_type": "code",
   "execution_count": 41,
   "id": "21a32d1b",
   "metadata": {},
   "outputs": [
    {
     "name": "stdout",
     "output_type": "stream",
     "text": [
      "Accuracy= 65.38%\n"
     ]
    }
   ],
   "source": [
    "from sklearn.model_selection import cross_val_score\n",
    "accuracies = cross_val_score(estimator=classifier, X= X_train, y=y_train, cv=10)\n",
    "print(\"Accuracy= {:.2f}%\".format(accuracies.mean()*100))"
   ]
  },
  {
   "cell_type": "code",
   "execution_count": null,
   "id": "8448a078",
   "metadata": {},
   "outputs": [],
   "source": []
  }
 ],
 "metadata": {
  "kernelspec": {
   "display_name": "Python 3 (ipykernel)",
   "language": "python",
   "name": "python3"
  },
  "language_info": {
   "codemirror_mode": {
    "name": "ipython",
    "version": 3
   },
   "file_extension": ".py",
   "mimetype": "text/x-python",
   "name": "python",
   "nbconvert_exporter": "python",
   "pygments_lexer": "ipython3",
   "version": "3.9.7"
  }
 },
 "nbformat": 4,
 "nbformat_minor": 5
}
